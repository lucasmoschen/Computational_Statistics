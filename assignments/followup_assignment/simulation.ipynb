{
 "cells": [
  {
   "cell_type": "markdown",
   "metadata": {},
   "source": [
    "# Simulation summaries"
   ]
  },
  {
   "cell_type": "code",
   "execution_count": 51,
   "metadata": {},
   "outputs": [],
   "source": [
    "import numpy as np\n",
    "import json"
   ]
  },
  {
   "cell_type": "code",
   "execution_count": 52,
   "metadata": {},
   "outputs": [],
   "source": [
    "with open('images/file.json') as f:\n",
    "    data = json.load(f)"
   ]
  },
  {
   "cell_type": "code",
   "execution_count": 96,
   "metadata": {},
   "outputs": [],
   "source": [
    "means = [np.std(data[a]['I3'][0], ddof=1) for a in data.keys()]\n",
    "vars = [np.mean(data[a]['I3'][1]) for a in data.keys()]\n",
    "true = np.array([128 * float(R)/ (45 * np.pi) for R in data.keys()])"
   ]
  },
  {
   "cell_type": "code",
   "execution_count": 97,
   "metadata": {},
   "outputs": [
    {
     "data": {
      "text/plain": [
       "array([9.18490935e-05, 9.65720252e-04, 9.78695861e-03, 9.30030270e-02,\n",
       "       9.65778066e-01, 9.24649823e+00, 9.27073115e+01])"
      ]
     },
     "execution_count": 97,
     "metadata": {},
     "output_type": "execute_result"
    }
   ],
   "source": [
    "np.array(means)"
   ]
  },
  {
   "cell_type": "code",
   "execution_count": 57,
   "metadata": {},
   "outputs": [
    {
     "data": {
      "text/plain": [
       "3"
      ]
     },
     "execution_count": 57,
     "metadata": {},
     "output_type": "execute_result"
    }
   ],
   "source": [
    "len(c[0])"
   ]
  },
  {
   "cell_type": "code",
   "execution_count": 98,
   "metadata": {},
   "outputs": [],
   "source": [
    "M_n = [1.6409, 1.2721, 1.1492, 1.102, 1.0718, 1.0556, 1.0421, 1.0343, 1.0298, 1.0209, 1.0205, 1.0176, 1.0169, 1.0127, 1.0119, 1.0091, 1.0088, 1.0095, 1.0062, 1.0068, 1.006, 1.0056, 1.0066, 1.0053, 1.0037, 1.0041, 1.0044, 1.0041, 1.0027, 1.0032, 1.0033, 1.0035, 1.0029, 1.0018, 1.0027, 1.0022, 1.0027, 1.0023, 1.0016, 1.0023, 1.0026, 1.0011, 1.0014, 1.0017, 1.0008, 1.0019, 1.0007, 1.0013, 1.0021, 1.002, 1.0015, 1.0012, 1.0015, 1.0012, 1.0012, 1.0014, 1.0008, 1.0008, 1.0008, 1.0011, 1.0008, 1.001, 1.0008, 1.0002, 1.0009, 1.0009, 1.0005, 1.0001, 1.0008, 1.0009, 1.0007, 1.0004, 1.0004, 1.0002, 1.0005, 1.0007, 1.0009, 1.0007, 1.0001, 1.0002, 1.0004, 1.0003, 1.0003, 1.0002, 1.0001, 1.0008, 1.0004, 1.0005, 1.0002, 1.0, 1.0006, 1.0003, 1.0003, 1.0004, 1.0005, 1.0, 1.0003]"
   ]
  },
  {
   "cell_type": "code",
   "execution_count": 99,
   "metadata": {},
   "outputs": [],
   "source": [
    "import matplotlib.pyplot as plt"
   ]
  },
  {
   "cell_type": "code",
   "execution_count": 105,
   "metadata": {},
   "outputs": [
    {
     "data": {
      "image/png": "[encoded data removed]",
      "text/plain": [
       "<Figure size 432x288 with 1 Axes>"
      ]
     },
     "metadata": {
      "needs_background": "light"
     },
     "output_type": "display_data"
    }
   ],
   "source": [
    "plt.plot(range(3, 100), M_n, color='black', linewidth=2)\n",
    "plt.title('Ratio between the number of samples and the accepted ones')\n",
    "plt.axhline(1, color='red', linestyle='--')\n",
    "plt.savefig('images/ratio_number_samples.pdf', bbox_inches='tight')"
   ]
  },
  {
   "cell_type": "code",
   "execution_count": null,
   "metadata": {},
   "outputs": [],
   "source": []
  }
 ],
 "metadata": {
  "interpreter": {
   "hash": "63638139854e329365b4222387bbd31424a6edfb77acb40ed96a5a7629ade7cc"
  },
  "kernelspec": {
   "display_name": "Python 3.7.1 64-bit ('base': conda)",
   "language": "python",
   "name": "python3"
  },
  "language_info": {
   "codemirror_mode": {
    "name": "ipython",
    "version": 3
   },
   "file_extension": ".py",
   "mimetype": "text/x-python",
   "name": "python",
   "nbconvert_exporter": "python",
   "pygments_lexer": "ipython3",
   "version": "3.7.1"
  },
  "orig_nbformat": 4
 },
 "nbformat": 4,
 "nbformat_minor": 2
}
